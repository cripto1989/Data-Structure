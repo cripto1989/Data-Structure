{
 "cells": [
  {
   "cell_type": "code",
   "execution_count": null,
   "outputs": [],
   "source": [
    "data = [1, 3, 4, 6, 7, 9, 11, 13, 16, 18, 20, 22, 25]\n",
    "item_search = 20\n",
    "\n",
    "size = len(data) - 1  # 12 \n",
    "index_first_element = 0\n",
    "index_last_element = size"
   ],
   "metadata": {
    "collapsed": false,
    "pycharm": {
     "name": "#%%\n"
    }
   }
  },
  {
   "cell_type": "code",
   "execution_count": null,
   "outputs": [],
   "source": [
    "def binary_search(data:list, item_search:int):\n",
    "    global index_first_element\n",
    "    global index_last_element\n",
    "    while index_first_element <= index_last_element:\n",
    "        middle = int((index_first_element + index_last_element) / 2)\n",
    "        if data[middle] == item_search:            \n",
    "            return middle\n",
    "        \n",
    "        if item_search < data[middle]:\n",
    "            index_last_element = middle - 1\n",
    "        else:\n",
    "            index_first_element = middle + 1\n",
    "    \n",
    "    if index_first_element > index_last_element:\n",
    "        print(None) "
   ],
   "metadata": {
    "collapsed": false,
    "pycharm": {
     "name": "#%%\n"
    }
   }
  },
  {
   "cell_type": "code",
   "execution_count": null,
   "outputs": [],
   "source": [
    "binary_search(data, item_search)\n"
   ],
   "metadata": {
    "collapsed": false,
    "pycharm": {
     "name": "#%%\n"
    }
   }
  }
 ],
 "metadata": {
  "kernelspec": {
   "display_name": "Python 3",
   "language": "python",
   "name": "python3"
  },
  "language_info": {
   "codemirror_mode": {
    "name": "ipython",
    "version": 2
   },
   "file_extension": ".py",
   "mimetype": "text/x-python",
   "name": "python",
   "nbconvert_exporter": "python",
   "pygments_lexer": "ipython2",
   "version": "2.7.6"
  },
  "pycharm": {
   "stem_cell": {
    "cell_type": "raw",
    "source": [],
    "metadata": {
     "collapsed": false
    }
   }
  }
 },
 "nbformat": 4,
 "nbformat_minor": 0
}