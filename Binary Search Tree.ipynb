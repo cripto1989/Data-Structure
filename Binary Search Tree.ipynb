{
 "cells" : [
  {
   "cell_type" : "code",
   "execution_count" : null,
   "metadata" : {
    "collapsed" : true
   },
   "outputs" : [ ],
   "source" : [
    "class Node:\n",
    "\n",
    "    def __init__(self, data):\n",
    "        self.data = data\n",
    "        self.right_child = None\n",
    "        self.left_child = None"
   ]
  },
  {
   "cell_type" : "code",
   "execution_count" : null,
   "outputs" : [ ],
   "source" : [
    "class Tree:\n",
    "\n",
    "    def __init__(self):\n",
    "        self.root_node = Node\n",
    "\n",
    "    def find_min(self):\n",
    "        current = self.root_node\n",
    "        while current.left_child:\n",
    "            current = current.left_child\n",
    "        return current\n",
    "\n",
    "    def insert(self, data):\n",
    "        node = Node(data)\n",
    "        if self.root_node is None:\n",
    "            self.root_node = Node\n",
    "        else:\n",
    "            current = self.root_node\n",
    "            parent = None\n",
    "            while True:\n",
    "                parent = current\n",
    "                if node.data < current.data:\n",
    "                    current = current.left_child\n",
    "                    if current is None:\n",
    "                        parent.left_child = node\n",
    "                        return\n",
    "                else:\n",
    "                    current = current.right_child\n",
    "                    if current is None:\n",
    "                        parent.right_child = node\n",
    "                        return"
   ],
   "metadata" : {
    "collapsed" : false,
    "pycharm" : {
     "name" : "#%%\n"
    }
   }
  }
 ],
 "metadata" : {
  "kernelspec" : {
   "display_name" : "Python 3",
   "language" : "python",
   "name" : "python3"
  },
  "language_info" : {
   "codemirror_mode" : {
    "name" : "ipython",
    "version" : 2
   },
   "file_extension" : ".py",
   "mimetype" : "text/x-python",
   "name" : "python",
   "nbconvert_exporter" : "python",
   "pygments_lexer" : "ipython2",
   "version" : "2.7.6"
  },
  "pycharm" : {
   "stem_cell" : {
    "cell_type" : "raw",
    "source" : [ ],
    "metadata" : {
     "collapsed" : false
    }
   }
  }
 },
 "nbformat" : 4,
 "nbformat_minor" : 0
}