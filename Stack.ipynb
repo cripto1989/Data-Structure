{
 "cells": [
  {
   "cell_type": "code",
   "execution_count": null,
   "outputs": [],
   "source": [
    "class Node:\n",
    "    \n",
    "    def __init__(self, data):\n",
    "        self.data = data\n",
    "        self.next = None"
   ],
   "metadata": {
    "collapsed": false,
    "pycharm": {
     "name": "#%%\n"
    }
   }
  },
  {
   "cell_type": "code",
   "execution_count": null,
   "outputs": [],
   "source": [
    "class Stack:\n",
    "    \"\"\"\n",
    "    In this structure data the new nodes address to the previous node \n",
    "    \"\"\"\n",
    "    \n",
    "    def __init__(self):\n",
    "        \"\"\"\n",
    "        Always keep the current top and size of the stack\n",
    "        \"\"\"\n",
    "        self.top = None\n",
    "        self.size = 0        \n",
    "    \n",
    "    def push(self, data):\n",
    "        \"\"\"\n",
    "        Create a new node, validate if there isn't top and increase the size of the stack.\n",
    "        :param data: Value of new node \n",
    "        :return: \n",
    "        \"\"\"\n",
    "        node = Node(data)\n",
    "        if self.top:\n",
    "            node.next = self.top\n",
    "            self.top = node\n",
    "        else:\n",
    "            self.top = node\n",
    "        self.size += 1\n",
    "    \n",
    "    def pop(self):\n",
    "        \"\"\"\n",
    "        Validate if there is a top, if yes decrease the size of stack and replace the new node top.    \n",
    "        :return: \n",
    "        \"\"\"\n",
    "        if self.top:\n",
    "            data = self.top.data\n",
    "            self.size -= 1\n",
    "            if self.top.next:            \n",
    "                self.top = self.top.next\n",
    "            else:\n",
    "                self.top = None\n",
    "            return data            \n",
    "        else:\n",
    "            return None                \n",
    "    \n",
    "    def peek(self):\n",
    "        \"\"\"\n",
    "        Return the data from top node if it exist\n",
    "        :return: Value or None\n",
    "        \"\"\"\n",
    "        if self.top:\n",
    "            return self.top.data\n",
    "        else:\n",
    "            return None\n",
    "\n",
    "\n"
   ],
   "metadata": {
    "collapsed": false,
    "pycharm": {
     "name": "#%%\n"
    }
   }
  }
 ],
 "metadata": {
  "kernelspec": {
   "display_name": "Python 3",
   "language": "python",
   "name": "python3"
  },
  "language_info": {
   "codemirror_mode": {
    "name": "ipython",
    "version": 2
   },
   "file_extension": ".py",
   "mimetype": "text/x-python",
   "name": "python",
   "nbconvert_exporter": "python",
   "pygments_lexer": "ipython2",
   "version": "2.7.6"
  },
  "pycharm": {
   "stem_cell": {
    "cell_type": "raw",
    "source": [
     "\n"
    ],
    "metadata": {
     "collapsed": false
    }
   }
  }
 },
 "nbformat": 4,
 "nbformat_minor": 0
}