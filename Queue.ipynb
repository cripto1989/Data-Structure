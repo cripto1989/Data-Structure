{
 "cells": [
  {
   "cell_type": "code",
   "execution_count": 7,
   "outputs": [],
   "source": [
    "class Queue:\n",
    "    \n",
    "    def __init__(self):\n",
    "        self.items = []\n",
    "        self.size = 0\n",
    "        \n",
    "    def enqueue(self, data):\n",
    "        \"\"\"\n",
    "        This method insert a data in 0 index of the list.\n",
    "        \"\"\"\n",
    "        self.items.insert(0, data)\n",
    "        self.size += 1\n",
    "        \n",
    "    def dequeue(self):\n",
    "        \"\"\"\n",
    "        This method remove the last element in the list, in other words the first element inserted.\n",
    "        \"\"\"\n",
    "        data = self.items.pop()\n",
    "        self.size -= 1\n",
    "        return data"
   ],
   "metadata": {
    "collapsed": false,
    "pycharm": {
     "name": "#%%\n",
     "is_executing": false
    }
   }
  },
  {
   "cell_type": "code",
   "execution_count": 10,
   "outputs": [
    {
     "name": "stdout",
     "text": [
      "['E', 'D', 'C', 'B', 'A']\n",
      "['E', 'D', 'C', 'B']\n",
      "['E', 'D', 'C']\n"
     ],
     "output_type": "stream"
    }
   ],
   "source": [
    "\n"
   ],
   "metadata": {
    "collapsed": false,
    "pycharm": {
     "name": "#%%\n",
     "is_executing": false
    }
   }
  }
 ],
 "metadata": {
  "kernelspec": {
   "display_name": "Python 3",
   "language": "python",
   "name": "python3"
  },
  "language_info": {
   "codemirror_mode": {
    "name": "ipython",
    "version": 2
   },
   "file_extension": ".py",
   "mimetype": "text/x-python",
   "name": "python",
   "nbconvert_exporter": "python",
   "pygments_lexer": "ipython2",
   "version": "2.7.6"
  },
  "pycharm": {
   "stem_cell": {
    "cell_type": "raw",
    "source": [],
    "metadata": {
     "collapsed": false
    }
   }
  }
 },
 "nbformat": 4,
 "nbformat_minor": 0
}