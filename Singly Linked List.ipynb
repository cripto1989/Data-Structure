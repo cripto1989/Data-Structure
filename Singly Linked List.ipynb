{
  "cells": [
    {
      "metadata": {},
      "cell_type": "markdown",
      "source": "<img src=\"img/lego-superhero.png\" alt=\"Drawing\" style=\"width: 150px;\"/>\n## <center>Singly Linked List</center>"
    },
    {
      "metadata": {},
      "cell_type": "markdown",
      "source": "<img src=\"img/link list.jpg\" alt=\"Drawing\" style=\"width: 350px;\"/>\n\nA link list is a linear structure built by at least a node, each node has two properties a **_data_** and a **_next_** attributes where you can save a value and save the next element in the list. Two another important concepts are the node **_tail_** that is the first node inserted and the **_head_** that is the last node inserted. \n\nThe traverse action in this sort of structures is just linear because is imposible to know what is the previous pointer node in each node.\n\nThere are some actions that you can perform in a singly linked list such as insert, traverse, delete, size and so forth."
    },
    {
      "metadata": {
        "trusted": true
      },
      "cell_type": "code",
      "source": "# The simplest class of Node which contain data and next attributes.\n\nclass Node:\n    \n    def __init__(self, data=None):\n        self.data = data\n        self.next = None\n        \n    def __str__(self):\n        return f\"{self.data}\"",
      "execution_count": null,
      "outputs": []
    },
    {
      "metadata": {
        "trusted": true
      },
      "cell_type": "code",
      "source": "node = Node(5)\nnodeA = Node(10)\nnodeB = Node(15)\nnodeC = Node(20)\nnodeA.next = nodeB\nnodeB.next = nodeC\ncurrent = nodeA",
      "execution_count": null,
      "outputs": []
    },
    {
      "metadata": {},
      "cell_type": "markdown",
      "source": "## Traverse\n\nIs the action to go through all nodes in the list."
    },
    {
      "metadata": {
        "trusted": true
      },
      "cell_type": "code",
      "source": "while current:\n    print(current.data)\n    current = current.next",
      "execution_count": null,
      "outputs": []
    },
    {
      "metadata": {},
      "cell_type": "markdown",
      "source": "## Singly Link List Class"
    },
    {
      "metadata": {
        "trusted": true
      },
      "cell_type": "code",
      "source": "class SinglyLinkedList:\n    \"\"\"\n    Single class to manage a complete set of nodes as a part of a Linked List.\n    \"\"\"\n    \n    def __init__(self):\n        self.tail = None  # It'll be the first node inserted\n        self.head = None  # It'll store the last element insert\n        self.size = 0     # It'll store the current size of the list\n    \n    def append(self, data):\n        \"\"\"\n        This method append a new Node instance going always throught all elements to the last element inserted in \n        the list.\n        \"\"\"\n        node = Node(data)\n        \n        if self.tail == None:\n            self.tail = node\n        else:\n            current = self.tail\n            while current.next:\n                current = current.next\n            current.next = node\n            \n    def optimized_append(self, data):\n        \"\"\"\n        This method was optimized to append a new Node instance in the list, looking for the attribute \"head\" the last \n        element inserted in the list.\n        :param data:  \n        \"\"\"\n        node = Node(data)\n        if self.head:\n            self.head.next = node\n            self.head = node            \n        else:\n            self.tail = node\n            self.head = node\n        self.size += 1\n    \n    def size(self):\n        \"\"\"\n        This method return the current size of the list.\n        \"\"\"\n        count = 0\n        current = self.tail\n        while current:\n            count += 1\n            current = current.next\n        return count\n    \n    def traverse(self):\n        \"\"\"\n        This method goes through all elements in the list and print all ones.\n        \"\"\"\n        current = self.tail\n        while current:            \n            print(current.data)\n            current = current.next\n            \n            \n    def item(self):\n        \"\"\"\n        This method as a generator yield all values of the list.\n        \"\"\"\n        current = self.tail\n        while current:\n            val = current.data\n            current = current.next\n            yield val\n            \n    def delete(self, data):\n        \"\"\"\n        Delete a node in list by the value of the Node\n        :param data: Value of node to be deleted\n        \"\"\"\n        current = self.tail\n        prev = self.tail\n        while current:\n            if current.data == data:\n                if current == self.tail:\n                    self.tail = current.next\n                else:\n                    prev.next = current.next\n                self.size -= 1\n                return\n            prev = current\n            current = current.next\n            \n    def search(self, value):\n        \"\"\"\n        This method search a value in the list and return a True if this one exists else return False\n        :param value:\n        \"\"\"\n        for item in self.item():\n            if value == item:\n                return True\n        return False\n\n    def clear(self):\n        \"\"\"\n        This method reset the values of tail and head, clean the list completly\n        \"\"\"\n        self.tail = None\n        self.head = None\n        self.size = 0",
      "execution_count": null,
      "outputs": []
    },
    {
      "metadata": {
        "trusted": true
      },
      "cell_type": "code",
      "source": "numbers = SinglyLinkedList()\nnumbers.optimized_append(458)\nnumbers.optimized_append(124)\nnumbers.optimized_append(357)\nnumbers.optimized_append(600)\nnumbers.optimized_append(800)\n",
      "execution_count": null,
      "outputs": []
    },
    {
      "metadata": {
        "trusted": true
      },
      "cell_type": "code",
      "source": "# Deleting a node with value 357\nnumbers.delete(357)",
      "execution_count": null,
      "outputs": []
    },
    {
      "metadata": {
        "trusted": true
      },
      "cell_type": "code",
      "source": "# Printing all values\nfor number in numbers.item():\n    print(number)",
      "execution_count": null,
      "outputs": []
    },
    {
      "metadata": {
        "trusted": true
      },
      "cell_type": "code",
      "source": "# Searching a item with value 500\nnumbers.search(500)",
      "execution_count": null,
      "outputs": []
    },
    {
      "metadata": {
        "trusted": true
      },
      "cell_type": "code",
      "source": "# Deleting the list\nnumbers.clear()",
      "execution_count": null,
      "outputs": []
    }
  ],
  "metadata": {
    "kernelspec": {
      "name": "python36",
      "display_name": "Python 3.6",
      "language": "python"
    },
    "language_info": {
      "mimetype": "text/x-python",
      "nbconvert_exporter": "python",
      "name": "python",
      "pygments_lexer": "ipython3",
      "version": "3.6.6",
      "file_extension": ".py",
      "codemirror_mode": {
        "version": 3,
        "name": "ipython"
      }
    }
  },
  "nbformat": 4,
  "nbformat_minor": 2
}