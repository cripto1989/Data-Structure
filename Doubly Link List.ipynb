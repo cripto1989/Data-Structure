{
  "cells": [
    {
      "metadata": {
        "trusted": true
      },
      "cell_type": "code",
      "source": "class Node:\n    \n    def __init__(self, value):\n        self.value = value\n        self.prev = None\n        self.next = None\n        \n        \nclass DoublyLinkedList:\n    \n    def __init__(self):\n        self.tail = None\n        self.head = None\n        self.size = 0\n    \n    def insert(self, data):\n        \"\"\"\n        1. In new node set the previous attribute equals to node tail\n        2. The current tail set in next attribute equals to new node\n        3. Set tail as the new node\n        \"\"\"\n        node = Node(data)\n        if self.head == None:\n            self.head = node\n            self.tail = node\n        else:            \n            node.prev = self.tail\n            self.tail.next = node\n            self.tail = node                                                    \n            self.size += 1\n            \n    def delete(self, data):\n        \"\"\"\n        For this method we've got to evaluate four scenarios        \n        For this method, we've got to evaluate four scenarios:\n        1.- When the search item is not found at all\n        2.- When the search item is found at the beginning of the list\n        3.- When the search item is found at the end of the list\n        4.- When the search item is found somewhere in the middle of the list\n        \"\"\"\n        current = self.head\n        node_deleted = False\n        if current is None:  # List empty\n            node_deleted = False\n        elif current.value == data:  # Search item at the beginning of the list\n            self.head = current.next \n            self.head.prev = None \n            node_deleted = True\n        elif self.tail.value == data:  # Search item at the end of the list\n            self.tail = self.tail.prev \n            self.tail.next = None \n            node_deleted = True \n        else:\n            while current: \n                if current.value == data: \n                    current.prev.next = current.next \n                    current.next.prev = current.prev \n                    node_deleted = True \n                current = current.next \n        if node_deleted: \n            self.size -= 1\n            \n    def item(self):\n        current = self.head\n        while current:\n            value = current.value\n            current = current.next\n            yield value\n            \n    def search(self, value):\n        \"\"\"\n        This method search a value in the list and return a True if this one exists else return False\n        :param value:\n        \"\"\"\n        for item in self.item():\n            if value == item:\n                return True\n        return False\n            \n            ",
      "execution_count": 28,
      "outputs": []
    },
    {
      "metadata": {
        "trusted": true
      },
      "cell_type": "code",
      "source": "letters = DoublyLinkedList()\nletters.insert('A')\nletters.insert('B')\nletters.insert('C')\nletters.insert('D')\nletters.insert('E')\nletters.insert('F')\n\nletters.delete('C')\nletters.delete('A')\nfor item in letters.item():\n    print(f'{item}')\n    \nprint(f'HEAD: {letters.head.value}')\nprint(f'TAIL: {letters.tail.value}')\n",
      "execution_count": 29,
      "outputs": [
        {
          "output_type": "stream",
          "text": "B\nD\nE\nF\nHEAD: B\nTAIL: F\n",
          "name": "stdout"
        }
      ]
    }
  ],
  "metadata": {
    "kernelspec": {
      "name": "python36",
      "display_name": "Python 3.6",
      "language": "python"
    },
    "language_info": {
      "mimetype": "text/x-python",
      "nbconvert_exporter": "python",
      "name": "python",
      "pygments_lexer": "ipython3",
      "version": "3.6.6",
      "file_extension": ".py",
      "codemirror_mode": {
        "version": 3,
        "name": "ipython"
      }
    }
  },
  "nbformat": 4,
  "nbformat_minor": 2
}